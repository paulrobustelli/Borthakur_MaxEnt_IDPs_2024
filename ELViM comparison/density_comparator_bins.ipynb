{
 "cells": [
  {
   "cell_type": "code",
   "execution_count": 1,
   "id": "be04654f",
   "metadata": {
    "ExecuteTime": {
     "end_time": "2024-10-01T02:06:31.459045594Z",
     "start_time": "2024-10-01T02:06:29.580577966Z"
    }
   },
   "outputs": [],
   "source": [
    "from density_comparator import lsdir, DensityComparator, symbols, combinations, dJS, dKL\n",
    "import numpy as np\n",
    "from pandas import DataFrame\n",
    "from IPython.display import display\n",
    "import matplotlib.pyplot as plt"
   ]
  },
  {
   "cell_type": "code",
   "execution_count": 2,
   "id": "5f8a49fd",
   "metadata": {
    "ExecuteTime": {
     "end_time": "2024-10-01T02:06:32.324218191Z",
     "start_time": "2024-10-01T02:06:31.447345750Z"
    }
   },
   "outputs": [
    {
     "name": "stderr",
     "output_type": "stream",
     "text": [
      "/home/t/r1r2/kaush/density_comparision/density_comparator.py:396: UserWarning: Not all strings contain a number, returning unsorted input list to avoid throwing an error. If you want to only consider strings that contain a digit, set indexed to True \n",
      "  warnings.warn(\"Not all strings contain a number, returning unsorted input list to avoid throwing an error. \"\n"
     ]
    }
   ],
   "source": [
    "root = \"/home/t/r1r2/kaush\"\n",
    "protein_paths = lsdir(\"/home/t/r1r2/kaush\", exclude=[\".py\",\"sj\", \"elvim\", \"png\", \"ELViM\", \"X\", \"weights\", \"density\"])[::-1]\n",
    "proteins = [f\"{symbols('alpha')}-Synuclein\", \"PaaA2\", \"ACTR\", \"drkN-SH3\", f\"A{symbols('beta')}-40\"]\n",
    "force_feilds = [\"a99SBdisp\", \"Charmm36m\", \"c22star-TIP3P\"]\n",
    "ff_pairs = [\"/\".join(i.tolist()) for i in combinations(force_feilds)]\n",
    "ff_intra = [\"/\".join(i) for i in np.stack(2 * [np.array(force_feilds)], 1).tolist()]\n",
    "weight_files = [[lsdir(f\"{path}/{ff}\", keyword=\"weight\") for ff in force_feilds] for path in protein_paths]\n",
    "elvim_files = [lsdir(f\"{path}/elvim\", keyword=\"cat\", exclude=\"npy\")[0] for path in protein_paths]\n",
    "weights = np.stack([np.stack([np.loadtxt(lsdir(f\"{path}/{ff}\", keyword=\"weight\")[0])[1:][::2] for ff in force_feilds]) for path in protein_paths])\n",
    "weights /= weights.sum(-1, keepdims=True)\n",
    "elvim = np.stack([np.stack([i[1:] for i in np.array_split(np.loadtxt(lsdir(f\"{path}/elvim\", keyword=\"cat\", exclude=\"npy\")[0]), 3)]) for path in protein_paths])"
   ]
  },
  {
   "cell_type": "code",
   "execution_count": 3,
   "id": "ef004d2f",
   "metadata": {
    "ExecuteTime": {
     "end_time": "2024-10-01T02:08:23.467701130Z",
     "start_time": "2024-10-01T02:08:23.419504166Z"
    }
   },
   "outputs": [],
   "source": [
    "kwargs = dict(\n",
    "               bins = 25,\n",
    "               n_contours = 6,\n",
    "               density = True,\n",
    "               extend_border = 0.6,\n",
    "               scatter_stride = 30,\n",
    "               alpha_lines=0.35,\n",
    "               mask_thresh=0.006,\n",
    "               alpha_contours=0.5,\n",
    "               contour_lines=True,\n",
    "               mask=False,\n",
    "               scatter=True,\n",
    "               scatter_alpha = .2,\n",
    "               scatter_size=.05,\n",
    "               scatter_max=.9,\n",
    "               scatter_min=0.5,\n",
    "               scatter_cmap=\"coolwarm_r\",\n",
    "               cmap=\"coolwarm\",\n",
    "               share_extent=True,\n",
    "               figsize=(11.5, 3)\n",
    "    \n",
    "            )"
   ]
  },
  {
   "cell_type": "code",
   "execution_count": null,
   "id": "c33e8cd8",
   "metadata": {},
   "outputs": [],
   "source": [
    "overlaps = []\n",
    "bins_array = np.arange(50, 5000, 50)\n",
    "for bins in bins_array:\n",
    "    dens.estimate_hist(bins=bins)\n",
    "    dens.estimate_hist(bins=bins, weight=True)\n",
    "    overlaps.append(dens.compare(\"hists\", pairs = np.array([[0, 0]]), weight0=False, weight1=True)**2)"
   ]
  },
  {
   "cell_type": "code",
   "execution_count": 77,
   "id": "32adbbdf",
   "metadata": {},
   "outputs": [
    {
     "data": {
      "text/plain": [
       "Text(0.5, 1.0, 'PaaA2 - a99SBdisp\\nUnbiased / Reweighted Self Overlap Integral')"
      ]
     },
     "execution_count": 77,
     "metadata": {},
     "output_type": "execute_result"
    },
    {
     "data": {
      "image/png": "[encoded data removed]",
      "text/plain": [
       "<Figure size 600x200 with 1 Axes>"
      ]
     },
     "metadata": {},
     "output_type": "display_data"
    }
   ],
   "source": [
    "plt.figure(figsize=(6, 2))\n",
    "plt.plot(bins_array, overlaps, color=\"red\", label=\"Overlap Integral Squared\")\n",
    "plt.hlines(0.10740822, bins_array[0], bins_array[-1], color=\"gray\", label=\"Kish\", ls=\"--\", alpha=0.8)\n",
    "#plt.ylabel(\"Overlap Integral Squared\")\n",
    "plt.xlabel(\"# Histogram Bins\")\n",
    "plt.legend()\n",
    "plt.xlim(0, 2500)\n",
    "plt.title(proteins[1] + \" - \" + force_feilds[0]+\"\\n\" + \"Unbiased / Reweighted Self Overlap Integral\")"
   ]
  },
  {
   "cell_type": "code",
   "execution_count": 7,
   "id": "9b2393e1",
   "metadata": {},
   "outputs": [],
   "source": [
    "from writhe_tools.stats import DensityComparator"
   ]
  },
  {
   "cell_type": "markdown",
   "id": "2c757bdf",
   "metadata": {
    "ExecuteTime": {
     "end_time": "2024-10-01T02:07:32.497059057Z",
     "start_time": "2024-10-01T02:07:24.321310818Z"
    }
   },
   "source": [
    " # 100 Bins"
   ]
  },
  {
   "cell_type": "code",
   "execution_count": 47,
   "id": "5fdf6159",
   "metadata": {},
   "outputs": [
    {
     "name": "stdout",
     "output_type": "stream",
     "text": [
      "Similarity Metrics and densities used to compute them for α-Synuclein\n"
     ]
    },
    {
     "name": "stderr",
     "output_type": "stream",
     "text": [
      "/home/t/r1r2/kaush/density_comparision/density_comparator.py:210: UserWarning: Using densities defined by histograms in the computation of a comparision metric can cause counter intuitive results because empty bins are masked out to prevent nans\n",
      "  warnings.warn((\n",
      "/home/t/r1r2/kaush/density_comparision/density_comparator.py:210: UserWarning: Using densities defined by histograms in the computation of a comparision metric can cause counter intuitive results because empty bins are masked out to prevent nans\n",
      "  warnings.warn((\n"
     ]
    },
    {
     "data": {
      "text/html": [
       "<style type=\"text/css\">\n",
       "</style>\n",
       "<table id=\"T_9c2e2\">\n",
       "  <caption>Unbiased + Reweighted Overlap between datasets</caption>\n",
       "  <thead>\n",
       "    <tr>\n",
       "      <th class=\"index_name level0\" >α-Synuclein : Overlap Integral</th>\n",
       "      <th id=\"T_9c2e2_level0_col0\" class=\"col_heading level0 col0\" >a99SBdisp/Charmm36m</th>\n",
       "      <th id=\"T_9c2e2_level0_col1\" class=\"col_heading level0 col1\" >a99SBdisp/c22star-TIP3P</th>\n",
       "      <th id=\"T_9c2e2_level0_col2\" class=\"col_heading level0 col2\" >Charmm36m/c22star-TIP3P</th>\n",
       "    </tr>\n",
       "  </thead>\n",
       "  <tbody>\n",
       "    <tr>\n",
       "      <th id=\"T_9c2e2_level0_row0\" class=\"row_heading level0 row0\" >Unbiased</th>\n",
       "      <td id=\"T_9c2e2_row0_col0\" class=\"data row0 col0\" >0.250211</td>\n",
       "      <td id=\"T_9c2e2_row0_col1\" class=\"data row0 col1\" >0.071798</td>\n",
       "      <td id=\"T_9c2e2_row0_col2\" class=\"data row0 col2\" >0.003275</td>\n",
       "    </tr>\n",
       "    <tr>\n",
       "      <th id=\"T_9c2e2_level0_row1\" class=\"row_heading level0 row1\" >Reweighted</th>\n",
       "      <td id=\"T_9c2e2_row1_col0\" class=\"data row1 col0\" >1.514839</td>\n",
       "      <td id=\"T_9c2e2_row1_col1\" class=\"data row1 col1\" >1.648155</td>\n",
       "      <td id=\"T_9c2e2_row1_col2\" class=\"data row1 col2\" >0.159438</td>\n",
       "    </tr>\n",
       "  </tbody>\n",
       "</table>\n"
      ],
      "text/plain": [
       "<pandas.io.formats.style.Styler at 0x7f93642b96d0>"
      ]
     },
     "metadata": {},
     "output_type": "display_data"
    },
    {
     "data": {
      "text/html": [
       "<style type=\"text/css\">\n",
       "</style>\n",
       "<table id=\"T_6d510\">\n",
       "  <caption>Unbiased / Reweighted Self Overlap</caption>\n",
       "  <thead>\n",
       "    <tr>\n",
       "      <th class=\"index_name level0\" >α-Synuclein : Overlap Integral</th>\n",
       "      <th id=\"T_6d510_level0_col0\" class=\"col_heading level0 col0\" >a99SBdisp/a99SBdisp</th>\n",
       "      <th id=\"T_6d510_level0_col1\" class=\"col_heading level0 col1\" >Charmm36m/Charmm36m</th>\n",
       "      <th id=\"T_6d510_level0_col2\" class=\"col_heading level0 col2\" >c22star-TIP3P/c22star-TIP3P</th>\n",
       "    </tr>\n",
       "  </thead>\n",
       "  <tbody>\n",
       "    <tr>\n",
       "      <th id=\"T_6d510_level0_row0\" class=\"row_heading level0 row0\" >Unbiased/Reweighted</th>\n",
       "      <td id=\"T_6d510_row0_col0\" class=\"data row0 col0\" >65.428097</td>\n",
       "      <td id=\"T_6d510_row0_col1\" class=\"data row0 col1\" >53.994878</td>\n",
       "      <td id=\"T_6d510_row0_col2\" class=\"data row0 col2\" >90.125985</td>\n",
       "    </tr>\n",
       "  </tbody>\n",
       "</table>\n"
      ],
      "text/plain": [
       "<pandas.io.formats.style.Styler at 0x7f9360bd1e20>"
      ]
     },
     "metadata": {},
     "output_type": "display_data"
    },
    {
     "name": "stdout",
     "output_type": "stream",
     "text": [
      "Similarity Metrics and densities used to compute them for PaaA2\n"
     ]
    },
    {
     "name": "stderr",
     "output_type": "stream",
     "text": [
      "/home/t/r1r2/kaush/density_comparision/density_comparator.py:210: UserWarning: Using densities defined by histograms in the computation of a comparision metric can cause counter intuitive results because empty bins are masked out to prevent nans\n",
      "  warnings.warn((\n",
      "/home/t/r1r2/kaush/density_comparision/density_comparator.py:210: UserWarning: Using densities defined by histograms in the computation of a comparision metric can cause counter intuitive results because empty bins are masked out to prevent nans\n",
      "  warnings.warn((\n"
     ]
    },
    {
     "data": {
      "text/html": [
       "<style type=\"text/css\">\n",
       "</style>\n",
       "<table id=\"T_49909\">\n",
       "  <caption>Unbiased + Reweighted Overlap between datasets</caption>\n",
       "  <thead>\n",
       "    <tr>\n",
       "      <th class=\"index_name level0\" >PaaA2 : Overlap Integral</th>\n",
       "      <th id=\"T_49909_level0_col0\" class=\"col_heading level0 col0\" >a99SBdisp/Charmm36m</th>\n",
       "      <th id=\"T_49909_level0_col1\" class=\"col_heading level0 col1\" >a99SBdisp/c22star-TIP3P</th>\n",
       "      <th id=\"T_49909_level0_col2\" class=\"col_heading level0 col2\" >Charmm36m/c22star-TIP3P</th>\n",
       "    </tr>\n",
       "  </thead>\n",
       "  <tbody>\n",
       "    <tr>\n",
       "      <th id=\"T_49909_level0_row0\" class=\"row_heading level0 row0\" >Unbiased</th>\n",
       "      <td id=\"T_49909_row0_col0\" class=\"data row0 col0\" >0.270855</td>\n",
       "      <td id=\"T_49909_row0_col1\" class=\"data row0 col1\" >0.827643</td>\n",
       "      <td id=\"T_49909_row0_col2\" class=\"data row0 col2\" >0.046968</td>\n",
       "    </tr>\n",
       "    <tr>\n",
       "      <th id=\"T_49909_level0_row1\" class=\"row_heading level0 row1\" >Reweighted</th>\n",
       "      <td id=\"T_49909_row1_col0\" class=\"data row1 col0\" >0.750825</td>\n",
       "      <td id=\"T_49909_row1_col1\" class=\"data row1 col1\" >3.739300</td>\n",
       "      <td id=\"T_49909_row1_col2\" class=\"data row1 col2\" >2.002563</td>\n",
       "    </tr>\n",
       "  </tbody>\n",
       "</table>\n"
      ],
      "text/plain": [
       "<pandas.io.formats.style.Styler at 0x7f9360b5bdc0>"
      ]
     },
     "metadata": {},
     "output_type": "display_data"
    },
    {
     "data": {
      "text/html": [
       "<style type=\"text/css\">\n",
       "</style>\n",
       "<table id=\"T_8756c\">\n",
       "  <caption>Unbiased / Reweighted Self Overlap</caption>\n",
       "  <thead>\n",
       "    <tr>\n",
       "      <th class=\"index_name level0\" >PaaA2 : Overlap Integral</th>\n",
       "      <th id=\"T_8756c_level0_col0\" class=\"col_heading level0 col0\" >a99SBdisp/a99SBdisp</th>\n",
       "      <th id=\"T_8756c_level0_col1\" class=\"col_heading level0 col1\" >Charmm36m/Charmm36m</th>\n",
       "      <th id=\"T_8756c_level0_col2\" class=\"col_heading level0 col2\" >c22star-TIP3P/c22star-TIP3P</th>\n",
       "    </tr>\n",
       "  </thead>\n",
       "  <tbody>\n",
       "    <tr>\n",
       "      <th id=\"T_8756c_level0_row0\" class=\"row_heading level0 row0\" >Unbiased/Reweighted</th>\n",
       "      <td id=\"T_8756c_row0_col0\" class=\"data row0 col0\" >57.317807</td>\n",
       "      <td id=\"T_8756c_row0_col1\" class=\"data row0 col1\" >55.732911</td>\n",
       "      <td id=\"T_8756c_row0_col2\" class=\"data row0 col2\" >55.710184</td>\n",
       "    </tr>\n",
       "  </tbody>\n",
       "</table>\n"
      ],
      "text/plain": [
       "<pandas.io.formats.style.Styler at 0x7f9360bd1e20>"
      ]
     },
     "metadata": {},
     "output_type": "display_data"
    },
    {
     "name": "stdout",
     "output_type": "stream",
     "text": [
      "Similarity Metrics and densities used to compute them for ACTR\n"
     ]
    },
    {
     "name": "stderr",
     "output_type": "stream",
     "text": [
      "/home/t/r1r2/kaush/density_comparision/density_comparator.py:210: UserWarning: Using densities defined by histograms in the computation of a comparision metric can cause counter intuitive results because empty bins are masked out to prevent nans\n",
      "  warnings.warn((\n",
      "/home/t/r1r2/kaush/density_comparision/density_comparator.py:210: UserWarning: Using densities defined by histograms in the computation of a comparision metric can cause counter intuitive results because empty bins are masked out to prevent nans\n",
      "  warnings.warn((\n"
     ]
    },
    {
     "data": {
      "text/html": [
       "<style type=\"text/css\">\n",
       "</style>\n",
       "<table id=\"T_22ace\">\n",
       "  <caption>Unbiased + Reweighted Overlap between datasets</caption>\n",
       "  <thead>\n",
       "    <tr>\n",
       "      <th class=\"index_name level0\" >ACTR : Overlap Integral</th>\n",
       "      <th id=\"T_22ace_level0_col0\" class=\"col_heading level0 col0\" >a99SBdisp/Charmm36m</th>\n",
       "      <th id=\"T_22ace_level0_col1\" class=\"col_heading level0 col1\" >a99SBdisp/c22star-TIP3P</th>\n",
       "      <th id=\"T_22ace_level0_col2\" class=\"col_heading level0 col2\" >Charmm36m/c22star-TIP3P</th>\n",
       "    </tr>\n",
       "  </thead>\n",
       "  <tbody>\n",
       "    <tr>\n",
       "      <th id=\"T_22ace_level0_row0\" class=\"row_heading level0 row0\" >Unbiased</th>\n",
       "      <td id=\"T_22ace_row0_col0\" class=\"data row0 col0\" >52.138696</td>\n",
       "      <td id=\"T_22ace_row0_col1\" class=\"data row0 col1\" >5.504234</td>\n",
       "      <td id=\"T_22ace_row0_col2\" class=\"data row0 col2\" >13.386834</td>\n",
       "    </tr>\n",
       "    <tr>\n",
       "      <th id=\"T_22ace_level0_row1\" class=\"row_heading level0 row1\" >Reweighted</th>\n",
       "      <td id=\"T_22ace_row1_col0\" class=\"data row1 col0\" >23.344650</td>\n",
       "      <td id=\"T_22ace_row1_col1\" class=\"data row1 col1\" >20.823628</td>\n",
       "      <td id=\"T_22ace_row1_col2\" class=\"data row1 col2\" >25.102147</td>\n",
       "    </tr>\n",
       "  </tbody>\n",
       "</table>\n"
      ],
      "text/plain": [
       "<pandas.io.formats.style.Styler at 0x7f93640f06d0>"
      ]
     },
     "metadata": {},
     "output_type": "display_data"
    },
    {
     "data": {
      "text/html": [
       "<style type=\"text/css\">\n",
       "</style>\n",
       "<table id=\"T_94681\">\n",
       "  <caption>Unbiased / Reweighted Self Overlap</caption>\n",
       "  <thead>\n",
       "    <tr>\n",
       "      <th class=\"index_name level0\" >ACTR : Overlap Integral</th>\n",
       "      <th id=\"T_94681_level0_col0\" class=\"col_heading level0 col0\" >a99SBdisp/a99SBdisp</th>\n",
       "      <th id=\"T_94681_level0_col1\" class=\"col_heading level0 col1\" >Charmm36m/Charmm36m</th>\n",
       "      <th id=\"T_94681_level0_col2\" class=\"col_heading level0 col2\" >c22star-TIP3P/c22star-TIP3P</th>\n",
       "    </tr>\n",
       "  </thead>\n",
       "  <tbody>\n",
       "    <tr>\n",
       "      <th id=\"T_94681_level0_row0\" class=\"row_heading level0 row0\" >Unbiased/Reweighted</th>\n",
       "      <td id=\"T_94681_row0_col0\" class=\"data row0 col0\" >71.133042</td>\n",
       "      <td id=\"T_94681_row0_col1\" class=\"data row0 col1\" >58.335706</td>\n",
       "      <td id=\"T_94681_row0_col2\" class=\"data row0 col2\" >59.532073</td>\n",
       "    </tr>\n",
       "  </tbody>\n",
       "</table>\n"
      ],
      "text/plain": [
       "<pandas.io.formats.style.Styler at 0x7f9360bd1e20>"
      ]
     },
     "metadata": {},
     "output_type": "display_data"
    },
    {
     "name": "stdout",
     "output_type": "stream",
     "text": [
      "Similarity Metrics and densities used to compute them for drkN-SH3\n"
     ]
    },
    {
     "name": "stderr",
     "output_type": "stream",
     "text": [
      "/home/t/r1r2/kaush/density_comparision/density_comparator.py:210: UserWarning: Using densities defined by histograms in the computation of a comparision metric can cause counter intuitive results because empty bins are masked out to prevent nans\n",
      "  warnings.warn((\n",
      "/home/t/r1r2/kaush/density_comparision/density_comparator.py:210: UserWarning: Using densities defined by histograms in the computation of a comparision metric can cause counter intuitive results because empty bins are masked out to prevent nans\n",
      "  warnings.warn((\n"
     ]
    },
    {
     "data": {
      "text/html": [
       "<style type=\"text/css\">\n",
       "</style>\n",
       "<table id=\"T_f590d\">\n",
       "  <caption>Unbiased + Reweighted Overlap between datasets</caption>\n",
       "  <thead>\n",
       "    <tr>\n",
       "      <th class=\"index_name level0\" >drkN-SH3 : Overlap Integral</th>\n",
       "      <th id=\"T_f590d_level0_col0\" class=\"col_heading level0 col0\" >a99SBdisp/Charmm36m</th>\n",
       "      <th id=\"T_f590d_level0_col1\" class=\"col_heading level0 col1\" >a99SBdisp/c22star-TIP3P</th>\n",
       "      <th id=\"T_f590d_level0_col2\" class=\"col_heading level0 col2\" >Charmm36m/c22star-TIP3P</th>\n",
       "    </tr>\n",
       "  </thead>\n",
       "  <tbody>\n",
       "    <tr>\n",
       "      <th id=\"T_f590d_level0_row0\" class=\"row_heading level0 row0\" >Unbiased</th>\n",
       "      <td id=\"T_f590d_row0_col0\" class=\"data row0 col0\" >2.168315</td>\n",
       "      <td id=\"T_f590d_row0_col1\" class=\"data row0 col1\" >12.153768</td>\n",
       "      <td id=\"T_f590d_row0_col2\" class=\"data row0 col2\" >5.882268</td>\n",
       "    </tr>\n",
       "    <tr>\n",
       "      <th id=\"T_f590d_level0_row1\" class=\"row_heading level0 row1\" >Reweighted</th>\n",
       "      <td id=\"T_f590d_row1_col0\" class=\"data row1 col0\" >13.460057</td>\n",
       "      <td id=\"T_f590d_row1_col1\" class=\"data row1 col1\" >23.597395</td>\n",
       "      <td id=\"T_f590d_row1_col2\" class=\"data row1 col2\" >18.495232</td>\n",
       "    </tr>\n",
       "  </tbody>\n",
       "</table>\n"
      ],
      "text/plain": [
       "<pandas.io.formats.style.Styler at 0x7f9365273df0>"
      ]
     },
     "metadata": {},
     "output_type": "display_data"
    },
    {
     "data": {
      "text/html": [
       "<style type=\"text/css\">\n",
       "</style>\n",
       "<table id=\"T_716de\">\n",
       "  <caption>Unbiased / Reweighted Self Overlap</caption>\n",
       "  <thead>\n",
       "    <tr>\n",
       "      <th class=\"index_name level0\" >drkN-SH3 : Overlap Integral</th>\n",
       "      <th id=\"T_716de_level0_col0\" class=\"col_heading level0 col0\" >a99SBdisp/a99SBdisp</th>\n",
       "      <th id=\"T_716de_level0_col1\" class=\"col_heading level0 col1\" >Charmm36m/Charmm36m</th>\n",
       "      <th id=\"T_716de_level0_col2\" class=\"col_heading level0 col2\" >c22star-TIP3P/c22star-TIP3P</th>\n",
       "    </tr>\n",
       "  </thead>\n",
       "  <tbody>\n",
       "    <tr>\n",
       "      <th id=\"T_716de_level0_row0\" class=\"row_heading level0 row0\" >Unbiased/Reweighted</th>\n",
       "      <td id=\"T_716de_row0_col0\" class=\"data row0 col0\" >72.573252</td>\n",
       "      <td id=\"T_716de_row0_col1\" class=\"data row0 col1\" >57.723683</td>\n",
       "      <td id=\"T_716de_row0_col2\" class=\"data row0 col2\" >53.936549</td>\n",
       "    </tr>\n",
       "  </tbody>\n",
       "</table>\n"
      ],
      "text/plain": [
       "<pandas.io.formats.style.Styler at 0x7f9360bd1e20>"
      ]
     },
     "metadata": {},
     "output_type": "display_data"
    },
    {
     "name": "stdout",
     "output_type": "stream",
     "text": [
      "Similarity Metrics and densities used to compute them for Aβ-40\n"
     ]
    },
    {
     "name": "stderr",
     "output_type": "stream",
     "text": [
      "/home/t/r1r2/kaush/density_comparision/density_comparator.py:210: UserWarning: Using densities defined by histograms in the computation of a comparision metric can cause counter intuitive results because empty bins are masked out to prevent nans\n",
      "  warnings.warn((\n",
      "/home/t/r1r2/kaush/density_comparision/density_comparator.py:210: UserWarning: Using densities defined by histograms in the computation of a comparision metric can cause counter intuitive results because empty bins are masked out to prevent nans\n",
      "  warnings.warn((\n"
     ]
    },
    {
     "data": {
      "text/html": [
       "<style type=\"text/css\">\n",
       "</style>\n",
       "<table id=\"T_1f733\">\n",
       "  <caption>Unbiased + Reweighted Overlap between datasets</caption>\n",
       "  <thead>\n",
       "    <tr>\n",
       "      <th class=\"index_name level0\" >Aβ-40 : Overlap Integral</th>\n",
       "      <th id=\"T_1f733_level0_col0\" class=\"col_heading level0 col0\" >a99SBdisp/Charmm36m</th>\n",
       "      <th id=\"T_1f733_level0_col1\" class=\"col_heading level0 col1\" >a99SBdisp/c22star-TIP3P</th>\n",
       "      <th id=\"T_1f733_level0_col2\" class=\"col_heading level0 col2\" >Charmm36m/c22star-TIP3P</th>\n",
       "    </tr>\n",
       "  </thead>\n",
       "  <tbody>\n",
       "    <tr>\n",
       "      <th id=\"T_1f733_level0_row0\" class=\"row_heading level0 row0\" >Unbiased</th>\n",
       "      <td id=\"T_1f733_row0_col0\" class=\"data row0 col0\" >36.055208</td>\n",
       "      <td id=\"T_1f733_row0_col1\" class=\"data row0 col1\" >24.286667</td>\n",
       "      <td id=\"T_1f733_row0_col2\" class=\"data row0 col2\" >23.201121</td>\n",
       "    </tr>\n",
       "    <tr>\n",
       "      <th id=\"T_1f733_level0_row1\" class=\"row_heading level0 row1\" >Reweighted</th>\n",
       "      <td id=\"T_1f733_row1_col0\" class=\"data row1 col0\" >33.360566</td>\n",
       "      <td id=\"T_1f733_row1_col1\" class=\"data row1 col1\" >23.510268</td>\n",
       "      <td id=\"T_1f733_row1_col2\" class=\"data row1 col2\" >25.530921</td>\n",
       "    </tr>\n",
       "  </tbody>\n",
       "</table>\n"
      ],
      "text/plain": [
       "<pandas.io.formats.style.Styler at 0x7f93640f06d0>"
      ]
     },
     "metadata": {},
     "output_type": "display_data"
    },
    {
     "data": {
      "text/html": [
       "<style type=\"text/css\">\n",
       "</style>\n",
       "<table id=\"T_99e54\">\n",
       "  <caption>Unbiased / Reweighted Self Overlap</caption>\n",
       "  <thead>\n",
       "    <tr>\n",
       "      <th class=\"index_name level0\" >Aβ-40 : Overlap Integral</th>\n",
       "      <th id=\"T_99e54_level0_col0\" class=\"col_heading level0 col0\" >a99SBdisp/a99SBdisp</th>\n",
       "      <th id=\"T_99e54_level0_col1\" class=\"col_heading level0 col1\" >Charmm36m/Charmm36m</th>\n",
       "      <th id=\"T_99e54_level0_col2\" class=\"col_heading level0 col2\" >c22star-TIP3P/c22star-TIP3P</th>\n",
       "    </tr>\n",
       "  </thead>\n",
       "  <tbody>\n",
       "    <tr>\n",
       "      <th id=\"T_99e54_level0_row0\" class=\"row_heading level0 row0\" >Unbiased/Reweighted</th>\n",
       "      <td id=\"T_99e54_row0_col0\" class=\"data row0 col0\" >54.584758</td>\n",
       "      <td id=\"T_99e54_row0_col1\" class=\"data row0 col1\" >76.261612</td>\n",
       "      <td id=\"T_99e54_row0_col2\" class=\"data row0 col2\" >66.099126</td>\n",
       "    </tr>\n",
       "  </tbody>\n",
       "</table>\n"
      ],
      "text/plain": [
       "<pandas.io.formats.style.Styler at 0x7f9360bd1e20>"
      ]
     },
     "metadata": {},
     "output_type": "display_data"
    }
   ],
   "source": [
    "metrics = (None, dJS, dKL)[:1]\n",
    "bins = 100\n",
    "df_captions = (\"Unbiased + Reweighted Overlap between datasets\", \n",
    "               \"Unbiased / Reweighted Self Overlap\")\n",
    "\n",
    "metric_names = \"Overlap Integral,JS,KL\".split(\",\")[:1]\n",
    "for index in range(5):\n",
    "    \n",
    "    dens = DensityComparator(data=[i for i in elvim[index]],\n",
    "                         weights=[i for i in weights[index]],)\n",
    "    \n",
    "    dens.estimate_hist(bins=bins);dens.estimate_hist(weight=True, bins=bins)\n",
    "\n",
    "\n",
    "    \n",
    "    for metric, metric_name in zip(metrics, metric_names):\n",
    "        \n",
    "        print(f\"Similarity Metrics and densities used to compute them for {proteins[index]}\")\n",
    "\n",
    "        df = DataFrame(data=np.stack([dens.compare(\"hists\", metric=metric),\n",
    "                                      dens.compare(\"hists\", weight=True, metric=metric)]) * 100, \n",
    "                           index=\"Unbiased,Reweighted\".split(\",\"),\n",
    "                           columns=ff_pairs)\n",
    "        \n",
    "        df_inter = DataFrame(data=dens.compare(\"hists\",\n",
    "                                               pairs = np.stack(np.diag_indices(3), 1),\n",
    "                                               weight0=True,\n",
    "                                               weight1=False).reshape(1, -1) * 100,\n",
    "                             index=[\"Unbiased/Reweighted\"],\n",
    "                             columns=np.array(ff_intra))\n",
    "        \n",
    "        \n",
    "        df.columns.name = f\"{proteins[index]} : {metric_name}\"\n",
    "        df_inter.columns.name = f\"{proteins[index]} : {metric_name}\"\n",
    "        \n",
    "        for frame, caption in zip([df, df_inter], df_captions):\n",
    "            styler = frame.style\n",
    "            styler.set_caption(caption)\n",
    "            display(styler)\n",
    "        \n",
    "        \n",
    "    \n",
    "\n"
   ]
  },
  {
   "cell_type": "markdown",
   "id": "d35a51b4",
   "metadata": {},
   "source": [
    " # 500 Bins!"
   ]
  },
  {
   "cell_type": "code",
   "execution_count": 48,
   "id": "b448e27b",
   "metadata": {},
   "outputs": [
    {
     "name": "stdout",
     "output_type": "stream",
     "text": [
      "Similarity Metrics and densities used to compute them for α-Synuclein\n"
     ]
    },
    {
     "name": "stderr",
     "output_type": "stream",
     "text": [
      "/home/t/r1r2/kaush/density_comparision/density_comparator.py:210: UserWarning: Using densities defined by histograms in the computation of a comparision metric can cause counter intuitive results because empty bins are masked out to prevent nans\n",
      "  warnings.warn((\n",
      "/home/t/r1r2/kaush/density_comparision/density_comparator.py:210: UserWarning: Using densities defined by histograms in the computation of a comparision metric can cause counter intuitive results because empty bins are masked out to prevent nans\n",
      "  warnings.warn((\n"
     ]
    },
    {
     "data": {
      "text/html": [
       "<style type=\"text/css\">\n",
       "</style>\n",
       "<table id=\"T_3e61f\">\n",
       "  <caption>Unbiased + Reweighted Overlap between datasets</caption>\n",
       "  <thead>\n",
       "    <tr>\n",
       "      <th class=\"index_name level0\" >α-Synuclein : Overlap Integral</th>\n",
       "      <th id=\"T_3e61f_level0_col0\" class=\"col_heading level0 col0\" >a99SBdisp/Charmm36m</th>\n",
       "      <th id=\"T_3e61f_level0_col1\" class=\"col_heading level0 col1\" >a99SBdisp/c22star-TIP3P</th>\n",
       "      <th id=\"T_3e61f_level0_col2\" class=\"col_heading level0 col2\" >Charmm36m/c22star-TIP3P</th>\n",
       "    </tr>\n",
       "  </thead>\n",
       "  <tbody>\n",
       "    <tr>\n",
       "      <th id=\"T_3e61f_level0_row0\" class=\"row_heading level0 row0\" >Unbiased</th>\n",
       "      <td id=\"T_3e61f_row0_col0\" class=\"data row0 col0\" >0.093968</td>\n",
       "      <td id=\"T_3e61f_row0_col1\" class=\"data row0 col1\" >0.036071</td>\n",
       "      <td id=\"T_3e61f_row0_col2\" class=\"data row0 col2\" >0.000000</td>\n",
       "    </tr>\n",
       "    <tr>\n",
       "      <th id=\"T_3e61f_level0_row1\" class=\"row_heading level0 row1\" >Reweighted</th>\n",
       "      <td id=\"T_3e61f_row1_col0\" class=\"data row1 col0\" >0.075682</td>\n",
       "      <td id=\"T_3e61f_row1_col1\" class=\"data row1 col1\" >0.352074</td>\n",
       "      <td id=\"T_3e61f_row1_col2\" class=\"data row1 col2\" >0.000000</td>\n",
       "    </tr>\n",
       "  </tbody>\n",
       "</table>\n"
      ],
      "text/plain": [
       "<pandas.io.formats.style.Styler at 0x7f93640e8bb0>"
      ]
     },
     "metadata": {},
     "output_type": "display_data"
    },
    {
     "data": {
      "text/html": [
       "<style type=\"text/css\">\n",
       "</style>\n",
       "<table id=\"T_165b4\">\n",
       "  <caption>Unbiased / Reweighted Self Overlap</caption>\n",
       "  <thead>\n",
       "    <tr>\n",
       "      <th class=\"index_name level0\" >α-Synuclein : Overlap Integral</th>\n",
       "      <th id=\"T_165b4_level0_col0\" class=\"col_heading level0 col0\" >a99SBdisp/a99SBdisp</th>\n",
       "      <th id=\"T_165b4_level0_col1\" class=\"col_heading level0 col1\" >Charmm36m/Charmm36m</th>\n",
       "      <th id=\"T_165b4_level0_col2\" class=\"col_heading level0 col2\" >c22star-TIP3P/c22star-TIP3P</th>\n",
       "    </tr>\n",
       "  </thead>\n",
       "  <tbody>\n",
       "    <tr>\n",
       "      <th id=\"T_165b4_level0_row0\" class=\"row_heading level0 row0\" >Unbiased/Reweighted</th>\n",
       "      <td id=\"T_165b4_row0_col0\" class=\"data row0 col0\" >41.273631</td>\n",
       "      <td id=\"T_165b4_row0_col1\" class=\"data row0 col1\" >39.217487</td>\n",
       "      <td id=\"T_165b4_row0_col2\" class=\"data row0 col2\" >75.774624</td>\n",
       "    </tr>\n",
       "  </tbody>\n",
       "</table>\n"
      ],
      "text/plain": [
       "<pandas.io.formats.style.Styler at 0x7f9360bd1e20>"
      ]
     },
     "metadata": {},
     "output_type": "display_data"
    },
    {
     "name": "stdout",
     "output_type": "stream",
     "text": [
      "Similarity Metrics and densities used to compute them for PaaA2\n"
     ]
    },
    {
     "name": "stderr",
     "output_type": "stream",
     "text": [
      "/home/t/r1r2/kaush/density_comparision/density_comparator.py:210: UserWarning: Using densities defined by histograms in the computation of a comparision metric can cause counter intuitive results because empty bins are masked out to prevent nans\n",
      "  warnings.warn((\n",
      "/home/t/r1r2/kaush/density_comparision/density_comparator.py:210: UserWarning: Using densities defined by histograms in the computation of a comparision metric can cause counter intuitive results because empty bins are masked out to prevent nans\n",
      "  warnings.warn((\n"
     ]
    },
    {
     "data": {
      "text/html": [
       "<style type=\"text/css\">\n",
       "</style>\n",
       "<table id=\"T_c30e1\">\n",
       "  <caption>Unbiased + Reweighted Overlap between datasets</caption>\n",
       "  <thead>\n",
       "    <tr>\n",
       "      <th class=\"index_name level0\" >PaaA2 : Overlap Integral</th>\n",
       "      <th id=\"T_c30e1_level0_col0\" class=\"col_heading level0 col0\" >a99SBdisp/Charmm36m</th>\n",
       "      <th id=\"T_c30e1_level0_col1\" class=\"col_heading level0 col1\" >a99SBdisp/c22star-TIP3P</th>\n",
       "      <th id=\"T_c30e1_level0_col2\" class=\"col_heading level0 col2\" >Charmm36m/c22star-TIP3P</th>\n",
       "    </tr>\n",
       "  </thead>\n",
       "  <tbody>\n",
       "    <tr>\n",
       "      <th id=\"T_c30e1_level0_row0\" class=\"row_heading level0 row0\" >Unbiased</th>\n",
       "      <td id=\"T_c30e1_row0_col0\" class=\"data row0 col0\" >0.080326</td>\n",
       "      <td id=\"T_c30e1_row0_col1\" class=\"data row0 col1\" >0.343985</td>\n",
       "      <td id=\"T_c30e1_row0_col2\" class=\"data row0 col2\" >0.006935</td>\n",
       "    </tr>\n",
       "    <tr>\n",
       "      <th id=\"T_c30e1_level0_row1\" class=\"row_heading level0 row1\" >Reweighted</th>\n",
       "      <td id=\"T_c30e1_row1_col0\" class=\"data row1 col0\" >0.016529</td>\n",
       "      <td id=\"T_c30e1_row1_col1\" class=\"data row1 col1\" >0.601309</td>\n",
       "      <td id=\"T_c30e1_row1_col2\" class=\"data row1 col2\" >0.026425</td>\n",
       "    </tr>\n",
       "  </tbody>\n",
       "</table>\n"
      ],
      "text/plain": [
       "<pandas.io.formats.style.Styler at 0x7f9363f2fa30>"
      ]
     },
     "metadata": {},
     "output_type": "display_data"
    },
    {
     "data": {
      "text/html": [
       "<style type=\"text/css\">\n",
       "</style>\n",
       "<table id=\"T_63e80\">\n",
       "  <caption>Unbiased / Reweighted Self Overlap</caption>\n",
       "  <thead>\n",
       "    <tr>\n",
       "      <th class=\"index_name level0\" >PaaA2 : Overlap Integral</th>\n",
       "      <th id=\"T_63e80_level0_col0\" class=\"col_heading level0 col0\" >a99SBdisp/a99SBdisp</th>\n",
       "      <th id=\"T_63e80_level0_col1\" class=\"col_heading level0 col1\" >Charmm36m/Charmm36m</th>\n",
       "      <th id=\"T_63e80_level0_col2\" class=\"col_heading level0 col2\" >c22star-TIP3P/c22star-TIP3P</th>\n",
       "    </tr>\n",
       "  </thead>\n",
       "  <tbody>\n",
       "    <tr>\n",
       "      <th id=\"T_63e80_level0_row0\" class=\"row_heading level0 row0\" >Unbiased/Reweighted</th>\n",
       "      <td id=\"T_63e80_row0_col0\" class=\"data row0 col0\" >35.017518</td>\n",
       "      <td id=\"T_63e80_row0_col1\" class=\"data row0 col1\" >35.702114</td>\n",
       "      <td id=\"T_63e80_row0_col2\" class=\"data row0 col2\" >40.079205</td>\n",
       "    </tr>\n",
       "  </tbody>\n",
       "</table>\n"
      ],
      "text/plain": [
       "<pandas.io.formats.style.Styler at 0x7f9360bd1e20>"
      ]
     },
     "metadata": {},
     "output_type": "display_data"
    },
    {
     "name": "stdout",
     "output_type": "stream",
     "text": [
      "Similarity Metrics and densities used to compute them for ACTR\n"
     ]
    },
    {
     "name": "stderr",
     "output_type": "stream",
     "text": [
      "/home/t/r1r2/kaush/density_comparision/density_comparator.py:210: UserWarning: Using densities defined by histograms in the computation of a comparision metric can cause counter intuitive results because empty bins are masked out to prevent nans\n",
      "  warnings.warn((\n",
      "/home/t/r1r2/kaush/density_comparision/density_comparator.py:210: UserWarning: Using densities defined by histograms in the computation of a comparision metric can cause counter intuitive results because empty bins are masked out to prevent nans\n",
      "  warnings.warn((\n"
     ]
    },
    {
     "data": {
      "text/html": [
       "<style type=\"text/css\">\n",
       "</style>\n",
       "<table id=\"T_e247c\">\n",
       "  <caption>Unbiased + Reweighted Overlap between datasets</caption>\n",
       "  <thead>\n",
       "    <tr>\n",
       "      <th class=\"index_name level0\" >ACTR : Overlap Integral</th>\n",
       "      <th id=\"T_e247c_level0_col0\" class=\"col_heading level0 col0\" >a99SBdisp/Charmm36m</th>\n",
       "      <th id=\"T_e247c_level0_col1\" class=\"col_heading level0 col1\" >a99SBdisp/c22star-TIP3P</th>\n",
       "      <th id=\"T_e247c_level0_col2\" class=\"col_heading level0 col2\" >Charmm36m/c22star-TIP3P</th>\n",
       "    </tr>\n",
       "  </thead>\n",
       "  <tbody>\n",
       "    <tr>\n",
       "      <th id=\"T_e247c_level0_row0\" class=\"row_heading level0 row0\" >Unbiased</th>\n",
       "      <td id=\"T_e247c_row0_col0\" class=\"data row0 col0\" >13.684679</td>\n",
       "      <td id=\"T_e247c_row0_col1\" class=\"data row0 col1\" >2.147689</td>\n",
       "      <td id=\"T_e247c_row0_col2\" class=\"data row0 col2\" >4.330794</td>\n",
       "    </tr>\n",
       "    <tr>\n",
       "      <th id=\"T_e247c_level0_row1\" class=\"row_heading level0 row1\" >Reweighted</th>\n",
       "      <td id=\"T_e247c_row1_col0\" class=\"data row1 col0\" >1.666352</td>\n",
       "      <td id=\"T_e247c_row1_col1\" class=\"data row1 col1\" >1.736987</td>\n",
       "      <td id=\"T_e247c_row1_col2\" class=\"data row1 col2\" >2.225829</td>\n",
       "    </tr>\n",
       "  </tbody>\n",
       "</table>\n"
      ],
      "text/plain": [
       "<pandas.io.formats.style.Styler at 0x7f93640e8bb0>"
      ]
     },
     "metadata": {},
     "output_type": "display_data"
    },
    {
     "data": {
      "text/html": [
       "<style type=\"text/css\">\n",
       "</style>\n",
       "<table id=\"T_8e78a\">\n",
       "  <caption>Unbiased / Reweighted Self Overlap</caption>\n",
       "  <thead>\n",
       "    <tr>\n",
       "      <th class=\"index_name level0\" >ACTR : Overlap Integral</th>\n",
       "      <th id=\"T_8e78a_level0_col0\" class=\"col_heading level0 col0\" >a99SBdisp/a99SBdisp</th>\n",
       "      <th id=\"T_8e78a_level0_col1\" class=\"col_heading level0 col1\" >Charmm36m/Charmm36m</th>\n",
       "      <th id=\"T_8e78a_level0_col2\" class=\"col_heading level0 col2\" >c22star-TIP3P/c22star-TIP3P</th>\n",
       "    </tr>\n",
       "  </thead>\n",
       "  <tbody>\n",
       "    <tr>\n",
       "      <th id=\"T_8e78a_level0_row0\" class=\"row_heading level0 row0\" >Unbiased/Reweighted</th>\n",
       "      <td id=\"T_8e78a_row0_col0\" class=\"data row0 col0\" >40.585096</td>\n",
       "      <td id=\"T_8e78a_row0_col1\" class=\"data row0 col1\" >36.500878</td>\n",
       "      <td id=\"T_8e78a_row0_col2\" class=\"data row0 col2\" >36.688228</td>\n",
       "    </tr>\n",
       "  </tbody>\n",
       "</table>\n"
      ],
      "text/plain": [
       "<pandas.io.formats.style.Styler at 0x7f9360bd1e20>"
      ]
     },
     "metadata": {},
     "output_type": "display_data"
    },
    {
     "name": "stdout",
     "output_type": "stream",
     "text": [
      "Similarity Metrics and densities used to compute them for drkN-SH3\n"
     ]
    },
    {
     "name": "stderr",
     "output_type": "stream",
     "text": [
      "/home/t/r1r2/kaush/density_comparision/density_comparator.py:210: UserWarning: Using densities defined by histograms in the computation of a comparision metric can cause counter intuitive results because empty bins are masked out to prevent nans\n",
      "  warnings.warn((\n",
      "/home/t/r1r2/kaush/density_comparision/density_comparator.py:210: UserWarning: Using densities defined by histograms in the computation of a comparision metric can cause counter intuitive results because empty bins are masked out to prevent nans\n",
      "  warnings.warn((\n"
     ]
    },
    {
     "data": {
      "text/html": [
       "<style type=\"text/css\">\n",
       "</style>\n",
       "<table id=\"T_f71f9\">\n",
       "  <caption>Unbiased + Reweighted Overlap between datasets</caption>\n",
       "  <thead>\n",
       "    <tr>\n",
       "      <th class=\"index_name level0\" >drkN-SH3 : Overlap Integral</th>\n",
       "      <th id=\"T_f71f9_level0_col0\" class=\"col_heading level0 col0\" >a99SBdisp/Charmm36m</th>\n",
       "      <th id=\"T_f71f9_level0_col1\" class=\"col_heading level0 col1\" >a99SBdisp/c22star-TIP3P</th>\n",
       "      <th id=\"T_f71f9_level0_col2\" class=\"col_heading level0 col2\" >Charmm36m/c22star-TIP3P</th>\n",
       "    </tr>\n",
       "  </thead>\n",
       "  <tbody>\n",
       "    <tr>\n",
       "      <th id=\"T_f71f9_level0_row0\" class=\"row_heading level0 row0\" >Unbiased</th>\n",
       "      <td id=\"T_f71f9_row0_col0\" class=\"data row0 col0\" >0.698721</td>\n",
       "      <td id=\"T_f71f9_row0_col1\" class=\"data row0 col1\" >4.935354</td>\n",
       "      <td id=\"T_f71f9_row0_col2\" class=\"data row0 col2\" >2.334178</td>\n",
       "    </tr>\n",
       "    <tr>\n",
       "      <th id=\"T_f71f9_level0_row1\" class=\"row_heading level0 row1\" >Reweighted</th>\n",
       "      <td id=\"T_f71f9_row1_col0\" class=\"data row1 col0\" >0.837577</td>\n",
       "      <td id=\"T_f71f9_row1_col1\" class=\"data row1 col1\" >2.288359</td>\n",
       "      <td id=\"T_f71f9_row1_col2\" class=\"data row1 col2\" >1.033876</td>\n",
       "    </tr>\n",
       "  </tbody>\n",
       "</table>\n"
      ],
      "text/plain": [
       "<pandas.io.formats.style.Styler at 0x7f936b993910>"
      ]
     },
     "metadata": {},
     "output_type": "display_data"
    },
    {
     "data": {
      "text/html": [
       "<style type=\"text/css\">\n",
       "</style>\n",
       "<table id=\"T_931b8\">\n",
       "  <caption>Unbiased / Reweighted Self Overlap</caption>\n",
       "  <thead>\n",
       "    <tr>\n",
       "      <th class=\"index_name level0\" >drkN-SH3 : Overlap Integral</th>\n",
       "      <th id=\"T_931b8_level0_col0\" class=\"col_heading level0 col0\" >a99SBdisp/a99SBdisp</th>\n",
       "      <th id=\"T_931b8_level0_col1\" class=\"col_heading level0 col1\" >Charmm36m/Charmm36m</th>\n",
       "      <th id=\"T_931b8_level0_col2\" class=\"col_heading level0 col2\" >c22star-TIP3P/c22star-TIP3P</th>\n",
       "    </tr>\n",
       "  </thead>\n",
       "  <tbody>\n",
       "    <tr>\n",
       "      <th id=\"T_931b8_level0_row0\" class=\"row_heading level0 row0\" >Unbiased/Reweighted</th>\n",
       "      <td id=\"T_931b8_row0_col0\" class=\"data row0 col0\" >39.518204</td>\n",
       "      <td id=\"T_931b8_row0_col1\" class=\"data row0 col1\" >38.135626</td>\n",
       "      <td id=\"T_931b8_row0_col2\" class=\"data row0 col2\" >35.532337</td>\n",
       "    </tr>\n",
       "  </tbody>\n",
       "</table>\n"
      ],
      "text/plain": [
       "<pandas.io.formats.style.Styler at 0x7f9360bd1e20>"
      ]
     },
     "metadata": {},
     "output_type": "display_data"
    },
    {
     "name": "stdout",
     "output_type": "stream",
     "text": [
      "Similarity Metrics and densities used to compute them for Aβ-40\n"
     ]
    },
    {
     "name": "stderr",
     "output_type": "stream",
     "text": [
      "/home/t/r1r2/kaush/density_comparision/density_comparator.py:210: UserWarning: Using densities defined by histograms in the computation of a comparision metric can cause counter intuitive results because empty bins are masked out to prevent nans\n",
      "  warnings.warn((\n",
      "/home/t/r1r2/kaush/density_comparision/density_comparator.py:210: UserWarning: Using densities defined by histograms in the computation of a comparision metric can cause counter intuitive results because empty bins are masked out to prevent nans\n",
      "  warnings.warn((\n"
     ]
    },
    {
     "data": {
      "text/html": [
       "<style type=\"text/css\">\n",
       "</style>\n",
       "<table id=\"T_c5f87\">\n",
       "  <caption>Unbiased + Reweighted Overlap between datasets</caption>\n",
       "  <thead>\n",
       "    <tr>\n",
       "      <th class=\"index_name level0\" >Aβ-40 : Overlap Integral</th>\n",
       "      <th id=\"T_c5f87_level0_col0\" class=\"col_heading level0 col0\" >a99SBdisp/Charmm36m</th>\n",
       "      <th id=\"T_c5f87_level0_col1\" class=\"col_heading level0 col1\" >a99SBdisp/c22star-TIP3P</th>\n",
       "      <th id=\"T_c5f87_level0_col2\" class=\"col_heading level0 col2\" >Charmm36m/c22star-TIP3P</th>\n",
       "    </tr>\n",
       "  </thead>\n",
       "  <tbody>\n",
       "    <tr>\n",
       "      <th id=\"T_c5f87_level0_row0\" class=\"row_heading level0 row0\" >Unbiased</th>\n",
       "      <td id=\"T_c5f87_row0_col0\" class=\"data row0 col0\" >7.825166</td>\n",
       "      <td id=\"T_c5f87_row0_col1\" class=\"data row0 col1\" >6.380722</td>\n",
       "      <td id=\"T_c5f87_row0_col2\" class=\"data row0 col2\" >6.629526</td>\n",
       "    </tr>\n",
       "    <tr>\n",
       "      <th id=\"T_c5f87_level0_row1\" class=\"row_heading level0 row1\" >Reweighted</th>\n",
       "      <td id=\"T_c5f87_row1_col0\" class=\"data row1 col0\" >2.205768</td>\n",
       "      <td id=\"T_c5f87_row1_col1\" class=\"data row1 col1\" >1.669289</td>\n",
       "      <td id=\"T_c5f87_row1_col2\" class=\"data row1 col2\" >2.227440</td>\n",
       "    </tr>\n",
       "  </tbody>\n",
       "</table>\n"
      ],
      "text/plain": [
       "<pandas.io.formats.style.Styler at 0x7f93605e8580>"
      ]
     },
     "metadata": {},
     "output_type": "display_data"
    },
    {
     "data": {
      "text/html": [
       "<style type=\"text/css\">\n",
       "</style>\n",
       "<table id=\"T_963cc\">\n",
       "  <caption>Unbiased / Reweighted Self Overlap</caption>\n",
       "  <thead>\n",
       "    <tr>\n",
       "      <th class=\"index_name level0\" >Aβ-40 : Overlap Integral</th>\n",
       "      <th id=\"T_963cc_level0_col0\" class=\"col_heading level0 col0\" >a99SBdisp/a99SBdisp</th>\n",
       "      <th id=\"T_963cc_level0_col1\" class=\"col_heading level0 col1\" >Charmm36m/Charmm36m</th>\n",
       "      <th id=\"T_963cc_level0_col2\" class=\"col_heading level0 col2\" >c22star-TIP3P/c22star-TIP3P</th>\n",
       "    </tr>\n",
       "  </thead>\n",
       "  <tbody>\n",
       "    <tr>\n",
       "      <th id=\"T_963cc_level0_row0\" class=\"row_heading level0 row0\" >Unbiased/Reweighted</th>\n",
       "      <td id=\"T_963cc_row0_col0\" class=\"data row0 col0\" >36.604780</td>\n",
       "      <td id=\"T_963cc_row0_col1\" class=\"data row0 col1\" >52.417490</td>\n",
       "      <td id=\"T_963cc_row0_col2\" class=\"data row0 col2\" >39.241536</td>\n",
       "    </tr>\n",
       "  </tbody>\n",
       "</table>\n"
      ],
      "text/plain": [
       "<pandas.io.formats.style.Styler at 0x7f9360bd1e20>"
      ]
     },
     "metadata": {},
     "output_type": "display_data"
    }
   ],
   "source": [
    "metrics = (None, dJS, dKL)[:1]\n",
    "bins = 500\n",
    "df_captions = (\"Unbiased + Reweighted Overlap between datasets\", \n",
    "               \"Unbiased / Reweighted Self Overlap\")\n",
    "\n",
    "metric_names = \"Overlap Integral,JS,KL\".split(\",\")[:1]\n",
    "for index in range(5):\n",
    "    \n",
    "    dens = DensityComparator(data=[i for i in elvim[index]],\n",
    "                         weights=[i for i in weights[index]],)\n",
    "    \n",
    "    dens.estimate_hist(bins=bins);dens.estimate_hist(weight=True, bins=bins)\n",
    "\n",
    "\n",
    "    \n",
    "    for metric, metric_name in zip(metrics, metric_names):\n",
    "        \n",
    "        print(f\"Similarity Metrics and densities used to compute them for {proteins[index]}\")\n",
    "\n",
    "        df = DataFrame(data=np.stack([dens.compare(\"hists\", metric=metric),\n",
    "                                      dens.compare(\"hists\", weight=True, metric=metric)]) * 100, \n",
    "                           index=\"Unbiased,Reweighted\".split(\",\"),\n",
    "                           columns=ff_pairs)\n",
    "        \n",
    "        df_inter = DataFrame(data=dens.compare(\"hists\",\n",
    "                                               pairs = np.stack(np.diag_indices(3), 1),\n",
    "                                               weight0=True,\n",
    "                                               weight1=False).reshape(1, -1) * 100,\n",
    "                             index=[\"Unbiased/Reweighted\"],\n",
    "                             columns=np.array(ff_intra))\n",
    "        \n",
    "        \n",
    "        df.columns.name = f\"{proteins[index]} : {metric_name}\"\n",
    "        df_inter.columns.name = f\"{proteins[index]} : {metric_name}\"\n",
    "        \n",
    "        for frame, caption in zip([df, df_inter], df_captions):\n",
    "            styler = frame.style\n",
    "            styler.set_caption(caption)\n",
    "            display(styler)\n",
    "        \n",
    "        \n",
    "    \n",
    "\n"
   ]
  },
  {
   "cell_type": "markdown",
   "id": "24866938",
   "metadata": {},
   "source": [
    "metrics = (None, dJS, dKL)\n",
    "bins = 500\n",
    "metric_names = \"Overlap Integral,JS,KL\".split(\",\")\n",
    "for index in range(5):\n",
    "    \n",
    "    dens = DensityComparator(data=[i for i in elvim[index]],\n",
    "                         weights=[i for i in weights[index]],)\n",
    "    \n",
    "    dens.estimate_hist(bins=bins);dens.estimate_hist(weight=True, bins=bins)\n",
    "    dens.estimate_kde(bins=bins); dens.estimate_kde(bins=bins, weight=True)\n",
    "    \n",
    "    dens.plot_kde(dscr=proteins[index], dscrs=force_feilds)\n",
    "    dens.plot_kde(dscr=proteins[index], dscrs=force_feilds, weight=True)\n",
    "    \n",
    "    dens.plot_hist(dscrs=force_feilds, weight=False, kwargs=kwargs, title=proteins[index])\n",
    "    plt.savefig(\"./actr_elvim_unbiased.png\", bbox_inches=\"tight\", dpi=1000)\n",
    "\n",
    "    dens.plot_hist(dscrs=force_feilds, weight=True, kwargs=kwargs, title=proteins[index])\n",
    "    plt.savefig(\"./actr_elvim_reweighted.png\", bbox_inches=\"tight\", dpi=1000)\n",
    "\n",
    "\n",
    "    \n",
    "    for metric, metric_name in zip(metrics, metric_names):\n",
    "        \n",
    "        print(f\"Similarity Metrics and densities used to compute them for {proteins[index]}\")\n",
    "\n",
    "        df = DataFrame(data=np.stack([dens.compare(\"hists\", metric=metric),\n",
    "                                      dens.compare(\"hists\", weight=True, metric=metric)]), \n",
    "                           index=\"Unbiased,Reweighted\".split(\",\"),\n",
    "                           columns=ff_pairs)\n",
    "        \n",
    "        df.columns.name = f\"{proteins[index]} : {metric_name}\"\n",
    "    \n",
    "        display(df)\n",
    "        \n",
    "    break\n",
    "    \n",
    "\n"
   ]
  }
 ],
 "metadata": {
  "kernelspec": {
   "display_name": "Python 3 (ipykernel)",
   "language": "python",
   "name": "python3"
  },
  "language_info": {
   "codemirror_mode": {
    "name": "ipython",
    "version": 3
   },
   "file_extension": ".py",
   "mimetype": "text/x-python",
   "name": "python",
   "nbconvert_exporter": "python",
   "pygments_lexer": "ipython3",
   "version": "3.8.0"
  }
 },
 "nbformat": 4,
 "nbformat_minor": 5
}
